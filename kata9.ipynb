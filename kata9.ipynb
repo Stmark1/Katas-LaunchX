{
  "cells": [
    {
      "cell_type": "markdown",
      "metadata": {},
      "source": [
        "# Ejercicio: Uso de funciones en Python"
      ]
    },
    {
      "cell_type": "markdown",
      "metadata": {},
      "source": [
        "### Ejercicio 1: Trabajar con argumentos en funciones\n",
        "\n",
        "Los argumentos requeridos en las funciones se utilizan cuando las funciones necesitan que esos argumentos funcionen correctamente. En este ejercicio, construirás un informe de combustible que requiere información de varias ubicaciones de combustible en todo el cohete.\n",
        "\n"
      ]
    },
    {
      "cell_type": "markdown",
      "metadata": {},
      "source": [
        "> **TIP**\n",
        "> Dedica unos minutos para tratar de encontrar una solución. Luego desplázate hacia abajo hasta la parte inferior para ver si has logrado compilar el programa de acuerdo con las especificaciones\n",
        "\n",
        "Comienza por crear una función que necesite tres lecturas de combustible y devuelva un informe:"
      ]
    },
    {
      "cell_type": "code",
      "execution_count": 5,
      "metadata": {},
      "outputs": [],
      "source": [
        "# Función para leer 3 tanques de combustible y muestre el promedio\n",
        "def reporte_tanques(tanque_1, tanque_2, tanque_3):\n",
        "    total = tanque_1 + tanque_2 + tanque_3\n",
        "    return f\"\"\"Reporte de combustible:\\n{\"-\"*50}\n",
        "    Tanque principal:\\t\\t {tanque_1} litros\n",
        "    Tanque de oxigeno:\\t\\t {tanque_2} litros\n",
        "    Tanque de emergencia:\\t {tanque_3} litos\n",
        "{\"-\"*50}\n",
        "Promedio: {total/3} litros\"\"\"\n"
      ]
    },
    {
      "cell_type": "markdown",
      "metadata": {},
      "source": [
        "Ahora que hemos definido la función de informes, vamos a comprobarlo. Para esta misión, los tanques no están llenos:"
      ]
    },
    {
      "cell_type": "code",
      "execution_count": 6,
      "metadata": {},
      "outputs": [
        {
          "name": "stdout",
          "output_type": "stream",
          "text": [
            "Reporte de combustible:\n",
            "--------------------------------------------------\n",
            "    Tanque principal:\t\t 546 litros\n",
            "    Tanque de oxigeno:\t\t 123 litros\n",
            "    Tanque de emergencia:\t 123 litos\n",
            "--------------------------------------------------\n",
            "Promedio: 264.0 litros\n"
          ]
        }
      ],
      "source": [
        "\n",
        "# Llamamos a la función que genera el reporte print(funcion(tanque1, tanque2, tanque3))\n",
        "print(reporte_tanques(546,123, 123))"
      ]
    },
    {
      "cell_type": "markdown",
      "metadata": {},
      "source": [
        "En lugar de simplemente crear el informe, la función también está calculando el promedio. Mejora la legibilidad extrayendo el cálculo promedio de la función en una nueva función para que el promedio se pueda hacer de forma independiente:"
      ]
    },
    {
      "cell_type": "code",
      "execution_count": 8,
      "metadata": {},
      "outputs": [],
      "source": [
        "# Función promedio\n",
        "def promedio_combustible(tanque_1, tanque_2, tanque_3):\n",
        "    total = tanque_1 + tanque_2 + tanque_3\n",
        "    return total / 3"
      ]
    },
    {
      "cell_type": "markdown",
      "metadata": {},
      "source": [
        "Ahora actualiza la función de informes para llamando a la nueva función del promedio:\n"
      ]
    },
    {
      "cell_type": "code",
      "execution_count": 10,
      "metadata": {},
      "outputs": [
        {
          "name": "stdout",
          "output_type": "stream",
          "text": [
            "Reporte de combustible:\n",
            "--------------------------------------------------\n",
            "    Tanque principal:\t\t 546 litros\n",
            "    Tanque de oxigeno:\t\t 123 litros\n",
            "    Tanque de emergencia:\t 123 litos\n",
            "--------------------------------------------------\n",
            "Promedio: 264.0 litros\n"
          ]
        }
      ],
      "source": [
        "# Actualiza la función\n",
        "def reporte_tanques(tanque_1, tanque_2, tanque_3):\n",
        "    return f\"\"\"Reporte de combustible:\\n{\"-\"*50}\n",
        "    Tanque principal:\\t\\t {tanque_1} litros\n",
        "    Tanque de oxigeno:\\t\\t {tanque_2} litros\n",
        "    Tanque de emergencia:\\t {tanque_3} litos\n",
        "{\"-\"*50}\n",
        "Promedio: {promedio_combustible(tanque_1, tanque_2, tanque_3)} litros\"\"\"\n",
        "\n",
        "print(reporte_tanques(546,123, 123))"
      ]
    },
    {
      "cell_type": "markdown",
      "metadata": {},
      "source": [
        "> Recuerda: Lo importante es intentarlo, puedes auxiliarte de internet, libros, etc. El objetivo de una kata es la comprobación de la comprensión de la lección y su aplicación inmediata a la resolución de problemas. Go for it!"
      ]
    },
    {
      "cell_type": "markdown",
      "metadata": {},
      "source": [
        "## Ejercicio 2: Trabajo con argumentos de palabra clave"
      ]
    },
    {
      "cell_type": "markdown",
      "metadata": {},
      "source": [
        "### Ejercicio : Trabajar con argumentos de palabras clave en funciones\n",
        "En este ejercicio, construirás un informe de cohete que requiere varias piezas de información, como el tiempo hasta el destino, el combustible a la izquierda y el nombre del destino. Comienza por crear una función que creará un informe preciso de la misión:"
      ]
    },
    {
      "cell_type": "code",
      "execution_count": 14,
      "metadata": {},
      "outputs": [
        {
          "name": "stdout",
          "output_type": "stream",
          "text": [
            "\n",
            "    Misión a: Luna\n",
            "    Tiempo de viaje: 65 minutos\n",
            "    Combustible restante: 800000 litros\n",
            "    \n"
          ]
        }
      ],
      "source": [
        "# Función con un informe preciso de la misión. Considera hora de prelanzamiento, tiempo de vuelo, destino, tanque externo y tanque interno\n",
        "def reporte_mision(lugar, timpo_de_espera, tiempo_de_viaje, tanque_externo, tanque_interno):\n",
        "    return f\"\"\"\n",
        "    Misión a: {lugar}\n",
        "    Tiempo de viaje: {timpo_de_espera + tiempo_de_viaje} minutos\n",
        "    Combustible restante: {tanque_externo + tanque_interno} litros\n",
        "    \"\"\"\n",
        "\n",
        "print(reporte_mision(14, 51, \"Luna\", 500000, 300000))"
      ]
    },
    {
      "cell_type": "markdown",
      "metadata": {},
      "source": [
        "La función es problemática porque no se puede adaptar para minutos adicionales o tanques adicionales de combustible. Hazlo más flexible permitiendo cualquier número de pasos basados en el tiempo y cualquier número de tanques. En lugar de usar `*args` y `**kwargs`, aprovecha el hecho de que puedes usar cualquier nombre que desees. Asegurate que la función sea más legible mediante el uso de nombres de variables que están asociados con las entradas, como `*minutes` y `**fuel_reservoirs`:"
      ]
    },
    {
      "cell_type": "code",
      "execution_count": 20,
      "metadata": {},
      "outputs": [
        {
          "name": "stdout",
          "output_type": "stream",
          "text": [
            "\n",
            "Misión a: Luna\n",
            "Tiempo de viaje: 65 minutos\n",
            "Combustible restante: 800000 litros\n",
            "    \n"
          ]
        }
      ],
      "source": [
        "# Escribe tu nueva función de reporte considerando lo anterior\n",
        "def reporte_mision(lugar, *tiempo, **tanques):\n",
        "    return f\"\"\"\n",
        "Misión a: {lugar}\n",
        "Tiempo de viaje: {sum(tiempo)} minutos\n",
        "Combustible restante: {sum(tanques.values())} litros\n",
        "    \"\"\"\n",
        "\n",
        "print(reporte_mision(\"Luna\", 14, 51, tanque1=500000, tanque2=300000))"
      ]
    },
    {
      "cell_type": "markdown",
      "metadata": {},
      "source": [
        "Debido a que el combustible que queda en los tanques es específico de cada tanque, actualiza la función para usar el nombre de cada tanque en el informe:"
      ]
    },
    {
      "cell_type": "code",
      "execution_count": 35,
      "metadata": {},
      "outputs": [
        {
          "name": "stdout",
          "output_type": "stream",
          "text": [
            "Misión a: Luna\n",
            "Tiempo de viaje: 65 minutos\n",
            "Combustible restante: 800000 litros\n",
            "Tanque_principal contiene: 500000\n",
            "tanque_emergencia contiene: 300000\n",
            "\n"
          ]
        }
      ],
      "source": [
        "# Escribe tu nueva función\n",
        "def reporte_mision(lugar, *tiempo, **tanques):\n",
        "    reporte = f\"\"\"Misión a: {lugar}\\nTiempo de viaje: {sum(tiempo)} minutos\\nCombustible restante: {sum(tanques.values())} litros\\n\"\"\"\n",
        "    for tanque, combustible in tanques.items():\n",
        "        reporte += f\"{tanque} contiene: {combustible}\\n\"\n",
        "    return reporte\n",
        "    \n",
        "\n",
        "print(reporte_mision(\"Luna\", 14, 51, Tanque_principal=500000, tanque_emergencia=300000))"
      ]
    },
    {
      "cell_type": "markdown",
      "metadata": {},
      "source": [
        "---\n",
        "\n",
        "Curso Propedútico de Python para Launch X - Innovacción Virtual.\n",
        "\n",
        "Material desarrollado con base en los contenidos de MSLearn y la metáfora de LaunchX, traducción e implementación por: Fernanda Ochoa - Learning Producer de LaunchX.\n",
        "\n",
        "Redes:\n",
        "* GitHub: [FernandaOchoa](https://github.com/FernandaOchoa)\n",
        "* Twitter: [@imonsh](https://twitter.com/imonsh)\n",
        "* Instagram: [fherz8a](https://www.instagram.com/fherz8a/)"
      ]
    }
  ],
  "metadata": {
    "interpreter": {
      "hash": "205095b8b86ea82a021a8fc2ffba2b3bc9f8d0be25999901963b225939f75778"
    },
    "kernelspec": {
      "display_name": "Python 3.8.10 64-bit ('tmp': conda)",
      "name": "python3"
    },
    "language_info": {
      "codemirror_mode": {
        "name": "ipython",
        "version": 3
      },
      "file_extension": ".py",
      "mimetype": "text/x-python",
      "name": "python",
      "nbconvert_exporter": "python",
      "pygments_lexer": "ipython3",
      "version": "3.8.10"
    },
    "nteract": {
      "version": "nteract-front-end@1.0.0"
    },
    "orig_nbformat": 4
  },
  "nbformat": 4,
  "nbformat_minor": 2
}
